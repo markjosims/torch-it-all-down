{
 "cells": [
  {
   "cell_type": "code",
   "execution_count": 312,
   "metadata": {},
   "outputs": [],
   "source": [
    "import torch\n",
    "import matplotlib.pyplot as plt"
   ]
  },
  {
   "cell_type": "markdown",
   "metadata": {},
   "source": [
    "## Gradient tensor"
   ]
  },
  {
   "cell_type": "code",
   "execution_count": 263,
   "metadata": {},
   "outputs": [
    {
     "data": {
      "text/plain": [
       "tensor([1., 2., 3.], dtype=torch.float64, requires_grad=True)"
      ]
     },
     "execution_count": 263,
     "metadata": {},
     "output_type": "execute_result"
    }
   ],
   "source": [
    "grad_vec = torch.tensor([1,2,3], requires_grad=True, dtype=float)\n",
    "grad_vec"
   ]
  },
  {
   "cell_type": "code",
   "execution_count": 264,
   "metadata": {},
   "outputs": [
    {
     "data": {
      "text/plain": [
       "tensor([2., 4., 6.], dtype=torch.float64)"
      ]
     },
     "execution_count": 264,
     "metadata": {},
     "output_type": "execute_result"
    }
   ],
   "source": [
    "vec_sqd=grad_vec**2\n",
    "vec_sqd_sum=vec_sqd.sum()\n",
    "vec_sqd_sum.backward()\n",
    "grad_vec.grad\n"
   ]
  },
  {
   "cell_type": "markdown",
   "metadata": {},
   "source": [
    "## Toy NN to map x to x^2"
   ]
  },
  {
   "cell_type": "markdown",
   "metadata": {},
   "source": [
    "### Define inputs"
   ]
  },
  {
   "cell_type": "code",
   "execution_count": 265,
   "metadata": {},
   "outputs": [],
   "source": [
    "x = torch.tensor(\n",
    "    [i for i in range(0, 10_000, 2)],\n",
    "    dtype=float,\n",
    ")\n",
    "y = torch.tensor(\n",
    "    [i for i in range(0, 10_000, 2)],\n",
    "    dtype=float,\n",
    ")\n",
    "\n",
    "x_test = torch.tensor(\n",
    "    [i for i in range(1, 10_000, 2)],\n",
    "    dtype=float,\n",
    ")\n",
    "y_test = torch.tensor(\n",
    "    [i for i in range(1, 10_000, 2)],\n",
    "    dtype=float,\n",
    ")"
   ]
  },
  {
   "cell_type": "markdown",
   "metadata": {},
   "source": [
    "### Define loss function"
   ]
  },
  {
   "cell_type": "code",
   "execution_count": 266,
   "metadata": {},
   "outputs": [],
   "source": [
    "def mean_sq_error(y_hat, y):\n",
    "    return ((y_hat-y)**2).mean()"
   ]
  },
  {
   "cell_type": "markdown",
   "metadata": {},
   "source": [
    "### Define single layer network"
   ]
  },
  {
   "cell_type": "code",
   "execution_count": 267,
   "metadata": {},
   "outputs": [
    {
     "data": {
      "text/plain": [
       "tensor([[ 0.4640, -0.3754, -0.2064, -0.2680, -0.3541],\n",
       "        [-0.4389, -0.0668, -0.0173,  0.3784,  0.0245]], dtype=torch.float64)"
      ]
     },
     "execution_count": 267,
     "metadata": {},
     "output_type": "execute_result"
    }
   ],
   "source": [
    "lyr2 = torch.rand(2,5, dtype=float)-0.5\n",
    "lyr2"
   ]
  },
  {
   "cell_type": "code",
   "execution_count": 268,
   "metadata": {},
   "outputs": [
    {
     "data": {
      "text/plain": [
       "tensor([[0.0000e+00, 1.0000e+00],\n",
       "        [2.0000e+00, 1.0000e+00],\n",
       "        [4.0000e+00, 1.0000e+00],\n",
       "        ...,\n",
       "        [9.9940e+03, 1.0000e+00],\n",
       "        [9.9960e+03, 1.0000e+00],\n",
       "        [9.9980e+03, 1.0000e+00]], dtype=torch.float64)"
      ]
     },
     "execution_count": 268,
     "metadata": {},
     "output_type": "execute_result"
    }
   ],
   "source": [
    "inputs = torch.stack([\n",
    "    x,\n",
    "    torch.ones_like(x)\n",
    "]).transpose(0,1)\n",
    "inputs"
   ]
  },
  {
   "cell_type": "code",
   "execution_count": 269,
   "metadata": {},
   "outputs": [
    {
     "data": {
      "text/plain": [
       "torch.Size([5000, 5])"
      ]
     },
     "execution_count": 269,
     "metadata": {},
     "output_type": "execute_result"
    }
   ],
   "source": [
    "preact = torch.matmul(inputs, lyr2)\n",
    "preact.shape"
   ]
  },
  {
   "cell_type": "code",
   "execution_count": 270,
   "metadata": {},
   "outputs": [
    {
     "data": {
      "text/plain": [
       "tensor([[0.0000e+00, 0.0000e+00, 0.0000e+00, 3.7836e-01, 2.4459e-02],\n",
       "        [4.8921e-01, 0.0000e+00, 0.0000e+00, 0.0000e+00, 0.0000e+00],\n",
       "        [1.4173e+00, 0.0000e+00, 0.0000e+00, 0.0000e+00, 0.0000e+00],\n",
       "        ...,\n",
       "        [4.6372e+03, 0.0000e+00, 0.0000e+00, 0.0000e+00, 0.0000e+00],\n",
       "        [4.6381e+03, 0.0000e+00, 0.0000e+00, 0.0000e+00, 0.0000e+00],\n",
       "        [4.6391e+03, 0.0000e+00, 0.0000e+00, 0.0000e+00, 0.0000e+00]],\n",
       "       dtype=torch.float64)"
      ]
     },
     "execution_count": 270,
     "metadata": {},
     "output_type": "execute_result"
    }
   ],
   "source": [
    "act = preact.relu()\n",
    "act"
   ]
  },
  {
   "cell_type": "code",
   "execution_count": 271,
   "metadata": {},
   "outputs": [
    {
     "data": {
      "text/plain": [
       "tensor([-1.2013e-01, -1.5999e+00, -3.0797e+00,  ..., -7.3947e+03,\n",
       "        -7.3962e+03, -7.3976e+03], dtype=torch.float64)"
      ]
     },
     "execution_count": 271,
     "metadata": {},
     "output_type": "execute_result"
    }
   ],
   "source": [
    "y_hat = preact.sum(dim=1)\n",
    "y_hat"
   ]
  },
  {
   "cell_type": "markdown",
   "metadata": {},
   "source": [
    "### Visualize layer"
   ]
  },
  {
   "cell_type": "code",
   "execution_count": 399,
   "metadata": {},
   "outputs": [
    {
     "data": {
      "image/png": "[encoded data removed]",
      "text/plain": [
       "<Figure size 432x288 with 1 Axes>"
      ]
     },
     "metadata": {
      "needs_background": "light"
     },
     "output_type": "display_data"
    }
   ],
   "source": [
    "lyr1 = torch.rand(2,1, dtype=float)*5\n",
    "\n",
    "def plot_layer(lyr):\n",
    "    x=list(range(-10,10))\n",
    "    y=torch.matmul(\n",
    "        torch.stack([\n",
    "            torch.tensor(x),\n",
    "            torch.ones(len(x)),\n",
    "        ]).transpose(0,1).to(float),\n",
    "        lyr\n",
    "    ).sum(dim=1).relu().detach()\n",
    "    y=torch.matmul(\n",
    "        torch.stack([\n",
    "            y,\n",
    "            torch.ones(len(y)),\n",
    "        ]).transpose(0,1).to(float),\n",
    "        lyr\n",
    "    ).sum(dim=1).relu().detach()\n",
    "    # print(x, y)\n",
    "    plt.plot(x, y)\n",
    "plot_layer(lyr1)"
   ]
  },
  {
   "cell_type": "markdown",
   "metadata": {},
   "source": [
    "### Train"
   ]
  },
  {
   "cell_type": "code",
   "execution_count": null,
   "metadata": {},
   "outputs": [
    {
     "name": "stdout",
     "output_type": "stream",
     "text": [
      "[1.5822442063241886, 3.3154212858092076, 5.048598365294227, 6.781775444779246, 8.514952524264265] [0.0, 2.0, 4.0, 6.0, 8.0]\n",
      "591001.3138649154\n",
      "[1.8483808645725368, 3553.825566584592, 7105.802752304611, 10657.779938024632, 14209.75712374465] [0.0, 2.0, 4.0, 6.0, 8.0]\n",
      "104988012550104.94\n",
      "[0.0, 0.0, 0.0, 0.0, 0.0] [0.0, 2.0, 4.0, 6.0, 8.0]\n",
      "33323334.0\n",
      "[0.0, 0.0, 0.0, 0.0, 0.0] [0.0, 2.0, 4.0, 6.0, 8.0]\n",
      "33323334.0\n",
      "[0.0, 0.0, 0.0, 0.0, 0.0] [0.0, 2.0, 4.0, 6.0, 8.0]\n",
      "33323334.0\n"
     ]
    }
   ],
   "source": [
    "# Gradient descent\n",
    "lyr1 = torch.rand(2,2, dtype=float, requires_grad=True)\n",
    "\n",
    "alpha = 0.0001\n",
    "for epoch in range(5):\n",
    "    y_hat = torch.matmul(inputs, lyr1).relu().sum(dim=1)\n",
    "    # print(lyr1)\n",
    "    loss = mean_sq_error(y_hat, y)\n",
    "    print(y_hat[:5].tolist(), y[:5].tolist())\n",
    "    loss.backward()\n",
    "    print(loss.item())\n",
    "    grad=lyr1.grad\n",
    "    lyr1.data=lyr1.data-grad.data*alpha\n",
    "    lyr1.grad.zero_()"
   ]
  },
  {
   "cell_type": "code",
   "execution_count": 311,
   "metadata": {},
   "outputs": [
    {
     "name": "stdout",
     "output_type": "stream",
     "text": [
      "99960004.0\n",
      "99960004.0\n",
      "99960004.0\n",
      "99960004.0\n",
      "99960004.0\n"
     ]
    }
   ],
   "source": [
    "# SGD\n",
    "lyr1 = torch.rand(2,1, dtype=float, requires_grad=True)\n",
    "\n",
    "alpha = 0.0001\n",
    "for epoch in range(5):\n",
    "    for x_val, y_val in zip(x, y):\n",
    "        input_tuple = torch.tensor([x_val, 1])\n",
    "        y_hat = torch.matmul(input_tuple, lyr1).relu().sum()\n",
    "        loss = mean_sq_error(y_hat, y_val)\n",
    "        loss.backward()\n",
    "        grad = lyr1.grad\n",
    "        lyr1.data = lyr1.data-grad.data*alpha\n",
    "        lyr1.grad.zero_()\n",
    "    print(loss.item())"
   ]
  }
 ],
 "metadata": {
  "kernelspec": {
   "display_name": "Python 3",
   "language": "python",
   "name": "python3"
  },
  "language_info": {
   "codemirror_mode": {
    "name": "ipython",
    "version": 3
   },
   "file_extension": ".py",
   "mimetype": "text/x-python",
   "name": "python",
   "nbconvert_exporter": "python",
   "pygments_lexer": "ipython3",
   "version": "3.9.undefined"
  }
 },
 "nbformat": 4,
 "nbformat_minor": 2
}
